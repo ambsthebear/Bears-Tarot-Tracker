{
 "cells": [
  {
   "cell_type": "markdown",
   "metadata": {},
   "source": [
    "Set up imports"
   ]
  },
  {
   "cell_type": "code",
   "execution_count": 1,
   "metadata": {},
   "outputs": [],
   "source": [
    "import pandas as pd\n",
    "import matplotlib.pyplot as plt"
   ]
  },
  {
   "cell_type": "markdown",
   "metadata": {},
   "source": [
    "Create df from csv"
   ]
  },
  {
   "cell_type": "code",
   "execution_count": 2,
   "metadata": {},
   "outputs": [
    {
     "data": {
      "text/html": [
       "<div>\n",
       "<style scoped>\n",
       "    .dataframe tbody tr th:only-of-type {\n",
       "        vertical-align: middle;\n",
       "    }\n",
       "\n",
       "    .dataframe tbody tr th {\n",
       "        vertical-align: top;\n",
       "    }\n",
       "\n",
       "    .dataframe thead th {\n",
       "        text-align: right;\n",
       "    }\n",
       "</style>\n",
       "<table border=\"1\" class=\"dataframe\">\n",
       "  <thead>\n",
       "    <tr style=\"text-align: right;\">\n",
       "      <th></th>\n",
       "      <th>Pull ID</th>\n",
       "      <th>Card ID</th>\n",
       "      <th>Card Name</th>\n",
       "      <th>Deck</th>\n",
       "      <th>Element</th>\n",
       "      <th>Querent</th>\n",
       "      <th>Date</th>\n",
       "    </tr>\n",
       "  </thead>\n",
       "  <tbody>\n",
       "    <tr>\n",
       "      <th>73</th>\n",
       "      <td>spr21621</td>\n",
       "      <td>c13wu</td>\n",
       "      <td>Queen of Cups</td>\n",
       "      <td>Wild Unknown</td>\n",
       "      <td>Water</td>\n",
       "      <td>self</td>\n",
       "      <td>02/16/2021</td>\n",
       "    </tr>\n",
       "    <tr>\n",
       "      <th>74</th>\n",
       "      <td>spr21621</td>\n",
       "      <td>8wu</td>\n",
       "      <td>Justice</td>\n",
       "      <td>Wild Unknown</td>\n",
       "      <td>Air</td>\n",
       "      <td>self</td>\n",
       "      <td>02/16/2021</td>\n",
       "    </tr>\n",
       "    <tr>\n",
       "      <th>75</th>\n",
       "      <td>spr22121</td>\n",
       "      <td>c10wu</td>\n",
       "      <td>10 of Cups</td>\n",
       "      <td>Wild Unknown</td>\n",
       "      <td>Water</td>\n",
       "      <td>event</td>\n",
       "      <td>02/21/2021</td>\n",
       "    </tr>\n",
       "    <tr>\n",
       "      <th>76</th>\n",
       "      <td>spr22121</td>\n",
       "      <td>s8wu</td>\n",
       "      <td>8 of Swords</td>\n",
       "      <td>Wild Unknown</td>\n",
       "      <td>Air</td>\n",
       "      <td>event</td>\n",
       "      <td>02/21/2021</td>\n",
       "    </tr>\n",
       "    <tr>\n",
       "      <th>77</th>\n",
       "      <td>spr22121</td>\n",
       "      <td>c3wu</td>\n",
       "      <td>3 of Cups</td>\n",
       "      <td>Wild Unknown</td>\n",
       "      <td>Water</td>\n",
       "      <td>event</td>\n",
       "      <td>02/21/2021</td>\n",
       "    </tr>\n",
       "  </tbody>\n",
       "</table>\n",
       "</div>"
      ],
      "text/plain": [
       "     Pull ID Card ID      Card Name          Deck Element Querent        Date\n",
       "73  spr21621   c13wu  Queen of Cups  Wild Unknown   Water    self  02/16/2021\n",
       "74  spr21621     8wu        Justice  Wild Unknown     Air    self  02/16/2021\n",
       "75  spr22121   c10wu     10 of Cups  Wild Unknown   Water   event  02/21/2021\n",
       "76  spr22121    s8wu    8 of Swords  Wild Unknown     Air   event  02/21/2021\n",
       "77  spr22121    c3wu      3 of Cups  Wild Unknown   Water   event  02/21/2021"
      ]
     },
     "execution_count": 2,
     "metadata": {},
     "output_type": "execute_result"
    }
   ],
   "source": [
    "my_pulls_df= pd.read_csv(\"Tarot pulls - my pulls.csv\")\n",
    "my_pulls_df.tail()"
   ]
  },
  {
   "cell_type": "markdown",
   "metadata": {},
   "source": [
    "Check data types and convert date to datetime"
   ]
  },
  {
   "cell_type": "code",
   "execution_count": 4,
   "metadata": {},
   "outputs": [
    {
     "name": "stdout",
     "output_type": "stream",
     "text": [
      "<class 'pandas.core.frame.DataFrame'>\n",
      "RangeIndex: 54 entries, 0 to 53\n",
      "Data columns (total 7 columns):\n",
      " #   Column     Non-Null Count  Dtype \n",
      "---  ------     --------------  ----- \n",
      " 0   Pull ID    54 non-null     object\n",
      " 1   Card ID    54 non-null     object\n",
      " 2   Card Name  54 non-null     object\n",
      " 3   Deck       54 non-null     object\n",
      " 4   Element    54 non-null     object\n",
      " 5   Querent    54 non-null     object\n",
      " 6   Date       54 non-null     object\n",
      "dtypes: object(7)\n",
      "memory usage: 3.1+ KB\n",
      "<class 'pandas.core.frame.DataFrame'>\n",
      "RangeIndex: 54 entries, 0 to 53\n",
      "Data columns (total 7 columns):\n",
      " #   Column     Non-Null Count  Dtype         \n",
      "---  ------     --------------  -----         \n",
      " 0   Pull ID    54 non-null     object        \n",
      " 1   Card ID    54 non-null     object        \n",
      " 2   Card Name  54 non-null     object        \n",
      " 3   Deck       54 non-null     object        \n",
      " 4   Element    54 non-null     object        \n",
      " 5   Querent    54 non-null     object        \n",
      " 6   Date       54 non-null     datetime64[ns]\n",
      "dtypes: datetime64[ns](1), object(6)\n",
      "memory usage: 3.1+ KB\n"
     ]
    }
   ],
   "source": [
    "my_pulls_df[\"Date\"] = pd.to_datetime(my_pulls_df[\"Date\"])\n",
    "my_pulls_df.info()"
   ]
  },
  {
   "cell_type": "markdown",
   "metadata": {},
   "source": [
    "Add today's pull/spread and 1-2 historical pulls (until all are added) to df using append function"
   ]
  },
  {
   "cell_type": "code",
   "execution_count": 4,
   "metadata": {},
   "outputs": [
    {
     "data": {
      "text/html": [
       "<div>\n",
       "<style scoped>\n",
       "    .dataframe tbody tr th:only-of-type {\n",
       "        vertical-align: middle;\n",
       "    }\n",
       "\n",
       "    .dataframe tbody tr th {\n",
       "        vertical-align: top;\n",
       "    }\n",
       "\n",
       "    .dataframe thead th {\n",
       "        text-align: right;\n",
       "    }\n",
       "</style>\n",
       "<table border=\"1\" class=\"dataframe\">\n",
       "  <thead>\n",
       "    <tr style=\"text-align: right;\">\n",
       "      <th></th>\n",
       "      <th>Pull ID</th>\n",
       "      <th>Card ID</th>\n",
       "      <th>Card Name</th>\n",
       "      <th>Deck</th>\n",
       "      <th>Element</th>\n",
       "      <th>Querent</th>\n",
       "      <th>Date</th>\n",
       "    </tr>\n",
       "  </thead>\n",
       "  <tbody>\n",
       "    <tr>\n",
       "      <th>87</th>\n",
       "      <td>rs81921</td>\n",
       "      <td>c1wu</td>\n",
       "      <td>Ace of Cups</td>\n",
       "      <td>Wild Unknown</td>\n",
       "      <td>Water</td>\n",
       "      <td>fam</td>\n",
       "      <td>8/19/2021</td>\n",
       "    </tr>\n",
       "    <tr>\n",
       "      <th>88</th>\n",
       "      <td>rs81921</td>\n",
       "      <td>c10wu</td>\n",
       "      <td>10 of Cups</td>\n",
       "      <td>Wild Unknown</td>\n",
       "      <td>Water</td>\n",
       "      <td>fam</td>\n",
       "      <td>8/19/2021</td>\n",
       "    </tr>\n",
       "    <tr>\n",
       "      <th>89</th>\n",
       "      <td>rs81921</td>\n",
       "      <td>16wu</td>\n",
       "      <td>Tower</td>\n",
       "      <td>Wild Unknown</td>\n",
       "      <td>Fire</td>\n",
       "      <td>fam</td>\n",
       "      <td>8/19/2021</td>\n",
       "    </tr>\n",
       "    <tr>\n",
       "      <th>90</th>\n",
       "      <td>rs81921</td>\n",
       "      <td>w10wu</td>\n",
       "      <td>10 of Wands</td>\n",
       "      <td>Wild Unknown</td>\n",
       "      <td>Fire</td>\n",
       "      <td>fam</td>\n",
       "      <td>8/19/2021</td>\n",
       "    </tr>\n",
       "    <tr>\n",
       "      <th>91</th>\n",
       "      <td>rs81921</td>\n",
       "      <td>s14wu</td>\n",
       "      <td>King of Swords</td>\n",
       "      <td>Wild Unknown</td>\n",
       "      <td>Air</td>\n",
       "      <td>fam</td>\n",
       "      <td>8/19/2021</td>\n",
       "    </tr>\n",
       "  </tbody>\n",
       "</table>\n",
       "</div>"
      ],
      "text/plain": [
       "    Pull ID Card ID       Card Name          Deck Element Querent       Date\n",
       "87  rs81921    c1wu     Ace of Cups  Wild Unknown   Water     fam  8/19/2021\n",
       "88  rs81921   c10wu      10 of Cups  Wild Unknown   Water     fam  8/19/2021\n",
       "89  rs81921    16wu           Tower  Wild Unknown    Fire     fam  8/19/2021\n",
       "90  rs81921   w10wu     10 of Wands  Wild Unknown    Fire     fam  8/19/2021\n",
       "91  rs81921   s14wu  King of Swords  Wild Unknown     Air     fam  8/19/2021"
      ]
     },
     "execution_count": 4,
     "metadata": {},
     "output_type": "execute_result"
    }
   ],
   "source": [
    "today_pull = {\n",
    "    'Pull ID': ['sc81323', 'sc81323'],\n",
    "    'Card ID': ['1gt', '11gt'],\n",
    "    'Card Name': ['Magician', 'Justice'],\n",
    "    'Deck': ['Gentle Tarot', 'Gentle Tarot'],\n",
    "    'Element': ['Air', 'Air'], \n",
    "    'Querent': ['self', 'self'],\n",
    "    'Date': ['08/12/2023', '08/12/2023']\n",
    "}\n",
    "today_pull_df = pd.DataFrame(today_pull)\n",
    "historical_pull = {\n",
    "    'Pull ID': ['spr22621', 'spr22621', 'spr22621', 'spr22621', 'spr22621', 'mm3221', 'mm3221', 'rs81921', 'rs81921', 'rs81921', 'rs81921', 'rs81921'],\n",
    "    'Card ID': ['c4wu', 'p6wu', '14wu', 'p11wu', 's12wu', '12wu', '15wu', 'c1wu', 'c10wu', '16wu', 'w10wu', 's14wu'],\n",
    "    'Card Name': ['4 of Cups', '6 of Pentacles', 'Temperance', 'Page of Pentacles', 'Knight of Swords', 'Hanged Man', 'Devil', 'Ace of Cups', '10 of Cups', 'Tower', '10 of Wands', 'King of Swords'],\n",
    "    'Deck': ['Wild Unknown', 'Wild Unknown', 'Wild Unknown', 'Wild Unknown', 'Wild Unknown', 'Wild Unknown', 'Wild Unknown', 'Wild Unknown', 'Wild Unknown', 'Wild Unknown', 'Wild Unknown', 'Wild Unknown'],\n",
    "    'Element': ['Water', 'Earth', 'Fire', 'Earth', 'Air', 'Water', 'Earth', 'Water', 'Water', 'Fire', 'Fire', 'Air'],\n",
    "    'Querent': ['event', 'event', 'event', 'event', 'event', 'self', 'self', 'fam', 'fam', 'fam', 'fam', 'fam'],\n",
    "    'Date': ['02/26/2021','02/26/2021','02/26/2021','02/26/2021', '02/26/2021', '3/2/2021', '3/2/2021', '8/19/2021', '8/19/2021', '8/19/2021', '8/19/2021', '8/19/2021']\n",
    "}\n",
    "historical_pull_df = pd.DataFrame(historical_pull)\n",
    "\n",
    "pulls_to_add = pd.concat([today_pull_df, historical_pull_df], ignore_index=True)\n",
    "pulls_to_add.reset_index()\n",
    "\n",
    "my_pulls_df = pd.concat([my_pulls_df, pulls_to_add], ignore_index=True)\n",
    "my_pulls_df.tail()"
   ]
  },
  {
   "cell_type": "markdown",
   "metadata": {},
   "source": [
    "Overwrite csv to update"
   ]
  },
  {
   "cell_type": "code",
   "execution_count": 5,
   "metadata": {},
   "outputs": [],
   "source": [
    "my_pulls_df.to_csv(\"Tarot pulls - my pulls.csv\", encoding='utf-8', index=False)"
   ]
  }
 ],
 "metadata": {
  "kernelspec": {
   "display_name": "Python 3",
   "language": "python",
   "name": "python3"
  },
  "language_info": {
   "codemirror_mode": {
    "name": "ipython",
    "version": 3
   },
   "file_extension": ".py",
   "mimetype": "text/x-python",
   "name": "python",
   "nbconvert_exporter": "python",
   "pygments_lexer": "ipython3",
   "version": "3.11.1"
  },
  "orig_nbformat": 4
 },
 "nbformat": 4,
 "nbformat_minor": 2
}
