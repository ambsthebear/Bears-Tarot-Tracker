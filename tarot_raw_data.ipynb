{
 "cells": [
  {
   "cell_type": "markdown",
   "metadata": {},
   "source": [
    "Set up imports"
   ]
  },
  {
   "cell_type": "code",
   "execution_count": 1,
   "metadata": {},
   "outputs": [],
   "source": [
    "import pandas as pd\n",
    "import matplotlib.pyplot as plt"
   ]
  },
  {
   "cell_type": "markdown",
   "metadata": {},
   "source": [
    "Create df from csv"
   ]
  },
  {
   "cell_type": "code",
   "execution_count": 2,
   "metadata": {},
   "outputs": [
    {
     "data": {
      "text/html": [
       "<div>\n",
       "<style scoped>\n",
       "    .dataframe tbody tr th:only-of-type {\n",
       "        vertical-align: middle;\n",
       "    }\n",
       "\n",
       "    .dataframe tbody tr th {\n",
       "        vertical-align: top;\n",
       "    }\n",
       "\n",
       "    .dataframe thead th {\n",
       "        text-align: right;\n",
       "    }\n",
       "</style>\n",
       "<table border=\"1\" class=\"dataframe\">\n",
       "  <thead>\n",
       "    <tr style=\"text-align: right;\">\n",
       "      <th></th>\n",
       "      <th>Pull ID</th>\n",
       "      <th>Card ID</th>\n",
       "      <th>Card Name</th>\n",
       "      <th>Deck</th>\n",
       "      <th>Element</th>\n",
       "      <th>Querent</th>\n",
       "      <th>Date</th>\n",
       "    </tr>\n",
       "  </thead>\n",
       "  <tbody>\n",
       "    <tr>\n",
       "      <th>0</th>\n",
       "      <td>bd20</td>\n",
       "      <td>3wu</td>\n",
       "      <td>Empress</td>\n",
       "      <td>Wild Unknown</td>\n",
       "      <td>Earth</td>\n",
       "      <td>self</td>\n",
       "      <td>11/14/2020</td>\n",
       "    </tr>\n",
       "    <tr>\n",
       "      <th>1</th>\n",
       "      <td>bd20</td>\n",
       "      <td>9wu</td>\n",
       "      <td>Hermit</td>\n",
       "      <td>Wild Unknown</td>\n",
       "      <td>Earth</td>\n",
       "      <td>self</td>\n",
       "      <td>11/14/2020</td>\n",
       "    </tr>\n",
       "    <tr>\n",
       "      <th>2</th>\n",
       "      <td>bd20</td>\n",
       "      <td>5wu</td>\n",
       "      <td>Hierophant</td>\n",
       "      <td>Wild Unknown</td>\n",
       "      <td>Earth</td>\n",
       "      <td>self</td>\n",
       "      <td>11/14/2020</td>\n",
       "    </tr>\n",
       "    <tr>\n",
       "      <th>3</th>\n",
       "      <td>bd20</td>\n",
       "      <td>13wu</td>\n",
       "      <td>Death</td>\n",
       "      <td>Wild Unknown</td>\n",
       "      <td>Water</td>\n",
       "      <td>self</td>\n",
       "      <td>11/14/2020</td>\n",
       "    </tr>\n",
       "    <tr>\n",
       "      <th>4</th>\n",
       "      <td>bd20</td>\n",
       "      <td>w5wu</td>\n",
       "      <td>5 of Wands</td>\n",
       "      <td>Wild Unknown</td>\n",
       "      <td>Fire</td>\n",
       "      <td>self</td>\n",
       "      <td>11/14/2020</td>\n",
       "    </tr>\n",
       "  </tbody>\n",
       "</table>\n",
       "</div>"
      ],
      "text/plain": [
       "  Pull ID Card ID   Card Name          Deck Element Querent        Date\n",
       "0    bd20     3wu     Empress  Wild Unknown   Earth    self  11/14/2020\n",
       "1    bd20     9wu      Hermit  Wild Unknown   Earth    self  11/14/2020\n",
       "2    bd20     5wu  Hierophant  Wild Unknown   Earth    self  11/14/2020\n",
       "3    bd20    13wu       Death  Wild Unknown   Water    self  11/14/2020\n",
       "4    bd20    w5wu  5 of Wands  Wild Unknown    Fire    self  11/14/2020"
      ]
     },
     "execution_count": 2,
     "metadata": {},
     "output_type": "execute_result"
    }
   ],
   "source": [
    "my_pulls_df= pd.read_csv(\"Tarot pulls - my pulls.csv\")\n",
    "my_pulls_df.tail()"
   ]
  },
  {
   "cell_type": "markdown",
   "metadata": {},
   "source": [
    "Check data types and convert date to datetime"
   ]
  },
  {
   "cell_type": "code",
   "execution_count": 4,
   "metadata": {},
   "outputs": [
    {
     "name": "stdout",
     "output_type": "stream",
     "text": [
      "<class 'pandas.core.frame.DataFrame'>\n",
      "RangeIndex: 54 entries, 0 to 53\n",
      "Data columns (total 7 columns):\n",
      " #   Column     Non-Null Count  Dtype \n",
      "---  ------     --------------  ----- \n",
      " 0   Pull ID    54 non-null     object\n",
      " 1   Card ID    54 non-null     object\n",
      " 2   Card Name  54 non-null     object\n",
      " 3   Deck       54 non-null     object\n",
      " 4   Element    54 non-null     object\n",
      " 5   Querent    54 non-null     object\n",
      " 6   Date       54 non-null     object\n",
      "dtypes: object(7)\n",
      "memory usage: 3.1+ KB\n",
      "<class 'pandas.core.frame.DataFrame'>\n",
      "RangeIndex: 54 entries, 0 to 53\n",
      "Data columns (total 7 columns):\n",
      " #   Column     Non-Null Count  Dtype         \n",
      "---  ------     --------------  -----         \n",
      " 0   Pull ID    54 non-null     object        \n",
      " 1   Card ID    54 non-null     object        \n",
      " 2   Card Name  54 non-null     object        \n",
      " 3   Deck       54 non-null     object        \n",
      " 4   Element    54 non-null     object        \n",
      " 5   Querent    54 non-null     object        \n",
      " 6   Date       54 non-null     datetime64[ns]\n",
      "dtypes: datetime64[ns](1), object(6)\n",
      "memory usage: 3.1+ KB\n"
     ]
    }
   ],
   "source": [
    "my_pulls_df[\"Date\"] = pd.to_datetime(my_pulls_df[\"Date\"])\n",
    "my_pulls_df.info()"
   ]
  },
  {
   "cell_type": "markdown",
   "metadata": {},
   "source": [
    "Add today's pull/spread and 1-2 historical pulls (until all are added) to df using append function"
   ]
  },
  {
   "cell_type": "code",
   "execution_count": 11,
   "metadata": {},
   "outputs": [
    {
     "data": {
      "text/html": [
       "<div>\n",
       "<style scoped>\n",
       "    .dataframe tbody tr th:only-of-type {\n",
       "        vertical-align: middle;\n",
       "    }\n",
       "\n",
       "    .dataframe tbody tr th {\n",
       "        vertical-align: top;\n",
       "    }\n",
       "\n",
       "    .dataframe thead th {\n",
       "        text-align: right;\n",
       "    }\n",
       "</style>\n",
       "<table border=\"1\" class=\"dataframe\">\n",
       "  <thead>\n",
       "    <tr style=\"text-align: right;\">\n",
       "      <th></th>\n",
       "      <th>Pull ID</th>\n",
       "      <th>Card ID</th>\n",
       "      <th>Card Name</th>\n",
       "      <th>Deck</th>\n",
       "      <th>Element</th>\n",
       "      <th>Querent</th>\n",
       "      <th>Date</th>\n",
       "    </tr>\n",
       "  </thead>\n",
       "  <tbody>\n",
       "    <tr>\n",
       "      <th>73</th>\n",
       "      <td>spr21621</td>\n",
       "      <td>c13wu</td>\n",
       "      <td>Queen of Cups</td>\n",
       "      <td>Wild Unknown</td>\n",
       "      <td>Water</td>\n",
       "      <td>self</td>\n",
       "      <td>02/16/2021</td>\n",
       "    </tr>\n",
       "    <tr>\n",
       "      <th>74</th>\n",
       "      <td>spr21621</td>\n",
       "      <td>8wu</td>\n",
       "      <td>Justice</td>\n",
       "      <td>Wild Unknown</td>\n",
       "      <td>Air</td>\n",
       "      <td>self</td>\n",
       "      <td>02/16/2021</td>\n",
       "    </tr>\n",
       "    <tr>\n",
       "      <th>75</th>\n",
       "      <td>spr22121</td>\n",
       "      <td>c10wu</td>\n",
       "      <td>10 of Cups</td>\n",
       "      <td>Wild Unknown</td>\n",
       "      <td>Water</td>\n",
       "      <td>event</td>\n",
       "      <td>02/21/2021</td>\n",
       "    </tr>\n",
       "    <tr>\n",
       "      <th>76</th>\n",
       "      <td>spr22121</td>\n",
       "      <td>s8wu</td>\n",
       "      <td>8 of Swords</td>\n",
       "      <td>Wild Unknown</td>\n",
       "      <td>Air</td>\n",
       "      <td>event</td>\n",
       "      <td>02/21/2021</td>\n",
       "    </tr>\n",
       "    <tr>\n",
       "      <th>77</th>\n",
       "      <td>spr22121</td>\n",
       "      <td>c3wu</td>\n",
       "      <td>3 of Cups</td>\n",
       "      <td>Wild Unknown</td>\n",
       "      <td>Water</td>\n",
       "      <td>event</td>\n",
       "      <td>02/21/2021</td>\n",
       "    </tr>\n",
       "  </tbody>\n",
       "</table>\n",
       "</div>"
      ],
      "text/plain": [
       "     Pull ID Card ID      Card Name          Deck Element Querent        Date\n",
       "73  spr21621   c13wu  Queen of Cups  Wild Unknown   Water    self  02/16/2021\n",
       "74  spr21621     8wu        Justice  Wild Unknown     Air    self  02/16/2021\n",
       "75  spr22121   c10wu     10 of Cups  Wild Unknown   Water   event  02/21/2021\n",
       "76  spr22121    s8wu    8 of Swords  Wild Unknown     Air   event  02/21/2021\n",
       "77  spr22121    c3wu      3 of Cups  Wild Unknown   Water   event  02/21/2021"
      ]
     },
     "execution_count": 11,
     "metadata": {},
     "output_type": "execute_result"
    }
   ],
   "source": [
    "today_pull = {\n",
    "    'Pull ID': ['sc81223'],\n",
    "    'Card ID': ['1gt'],\n",
    "    'Card Name': ['Magician'],\n",
    "    'Deck': ['Gentle Tarot'],\n",
    "    'Element': ['Air'],\n",
    "    'Querent': ['self'],\n",
    "    'Date': ['08/12/2023']\n",
    "}\n",
    "today_pull_df = pd.DataFrame(today_pull)\n",
    "historical_pull = {\n",
    "    'Pull ID': ['spr21621', 'spr21621', 'spr21621', 'spr21621', 'spr22121', 'spr22121', 'spr22121' ],\n",
    "    'Card ID': ['c6wu', 'c8wu', 'c13wu', '8wu', 'c10wu', 's8wu', 'c3wu'],\n",
    "    'Card Name': ['6 of Cups', '8 of Cups', 'Queen of Cups', 'Justice', '10 of Cups', '8 of Swords', '3 of Cups'],\n",
    "    'Deck': ['Wild Unknown', 'Wild Unknown', 'Wild Unknown', 'Wild Unknown', 'Wild Unknown', 'Wild Unknown', 'Wild Unknown'],\n",
    "    'Element': ['Water', 'Water', 'Water', 'Air', 'Water', 'Air', 'Water'],\n",
    "    'Querent': ['self', 'self', 'self', 'self', 'event', 'event', 'event'],\n",
    "    'Date': ['02/16/2021','02/16/2021','02/16/2021','02/16/2021', '02/21/2021', '02/21/2021', '02/21/2021']\n",
    "}\n",
    "historical_pull_df = pd.DataFrame(historical_pull)\n",
    "\n",
    "pulls_to_add = pd.concat([today_pull_df, historical_pull_df], ignore_index=True)\n",
    "pulls_to_add.reset_index()\n",
    "\n",
    "my_pulls_df = pd.concat([my_pulls_df, pulls_to_add], ignore_index=True)\n",
    "my_pulls_df.tail()"
   ]
  },
  {
   "cell_type": "markdown",
   "metadata": {},
   "source": [
    "Overwrite csv to update"
   ]
  },
  {
   "cell_type": "code",
   "execution_count": 12,
   "metadata": {},
   "outputs": [],
   "source": [
    "my_pulls_df.to_csv(\"Tarot pulls - my pulls.csv\", encoding='utf-8', index=False)"
   ]
  }
 ],
 "metadata": {
  "kernelspec": {
   "display_name": "Python 3",
   "language": "python",
   "name": "python3"
  },
  "language_info": {
   "codemirror_mode": {
    "name": "ipython",
    "version": 3
   },
   "file_extension": ".py",
   "mimetype": "text/x-python",
   "name": "python",
   "nbconvert_exporter": "python",
   "pygments_lexer": "ipython3",
   "version": "3.11.1"
  },
  "orig_nbformat": 4
 },
 "nbformat": 4,
 "nbformat_minor": 2
}
